{
 "cells": [
  {
   "cell_type": "raw",
   "id": "9562b376",
   "metadata": {},
   "source": [
    "Introduction to Gaussian Processes\n",
    "=================================="
   ]
  },
  {
   "cell_type": "code",
   "execution_count": null,
   "id": "49bcc595361a663b",
   "metadata": {},
   "outputs": [],
   "source": [
    "# © Crown Copyright GCHQ\n",
    "#\n",
    "# Licensed under the GNU General Public License, version 3 (the \"License\");\n",
    "# you may not use this file except in compliance with the License.\n",
    "# You may obtain a copy of the License at\n",
    "#\n",
    "# https://www.gnu.org/licenses/gpl-3.0.en.html\n",
    "#\n",
    "# Unless required by applicable law or agreed to in writing, software\n",
    "# distributed under the License is distributed on an \"AS IS\" BASIS,\n",
    "# WITHOUT WARRANTIES OR CONDITIONS OF ANY KIND, either express or implied.\n",
    "# See the License for the specific language governing permissions and\n",
    "# limitations under the License."
   ]
  },
  {
   "cell_type": "raw",
   "id": "2247034477c22397",
   "metadata": {},
   "source": [
    "This notebook will introduce the theory behind Gaussian processes, and showcase some of the implementations of them in Python."
   ]
  },
  {
   "cell_type": "code",
   "execution_count": null,
   "id": "19f6acf6",
   "metadata": {},
   "outputs": [],
   "source": [
    "# sphinx ignore\n",
    "\n",
    "import sys\n",
    "\n",
    "sys.path.append(\"../..\")\n",
    "\n",
    "%load_ext autoreload\n",
    "%autoreload 2\n",
    "\n",
    "%config Completer.use_jedi = False"
   ]
  },
  {
   "cell_type": "code",
   "execution_count": null,
   "id": "47e659edfd008164",
   "metadata": {},
   "outputs": [],
   "source": [
    "random_seed = 1_989"
   ]
  },
  {
   "cell_type": "code",
   "execution_count": null,
   "id": "a4d134d5",
   "metadata": {},
   "outputs": [],
   "source": [
    "import gpytorch\n",
    "import matplotlib.pyplot as plt\n",
    "import numpy as np\n",
    "import torch\n",
    "from numpy.typing import NDArray\n",
    "from sklearn.gaussian_process import GaussianProcessRegressor\n",
    "from sklearn.gaussian_process.kernels import RBF, ConstantKernel\n",
    "from torch import Tensor\n",
    "from typing_extensions import override\n",
    "\n",
    "from vanguard.datasets.synthetic import SyntheticDataset, very_complicated_f\n",
    "from vanguard.kernels import ScaledRBFKernel\n",
    "from vanguard.vanilla import GaussianGPController"
   ]
  },
  {
   "cell_type": "raw",
   "id": "7891053b",
   "metadata": {},
   "source": [
    "Regression\n",
    "----------\n",
    "\n",
    "Suppose we have some data made up of input (:math:`x`) and output (:math:`y`) values, and we wish to fit a model which\n",
    "will allow us to predict new outputs in future. This is a *regression* problem, and our model takes the form of the\n",
    "function :math:`f` in the following equation:\n",
    "\n",
    ".. math::\n",
    "    y_i = f(x_i) + \\epsilon_i,\n",
    "\n",
    "where we assume that :math:`\\epsilon_i\\sim N(0, \\sigma_i^2)`. In linear regression, we might assume that :math:`f` is of\n",
    "the form:\n",
    "\n",
    ".. math::\n",
    "    f(x_i) = ax_i + b.\n",
    "\n",
    "We can often get a better fit by including more terms, adding an :math:`x_i^2` coefficient and so on, but this still has\n",
    "its limits.  In fact, we can add many complex terms in an attempt to make our model as general as possible, but this\n",
    "becomes complicated and is ultimately very fragile. Being Bayesian, we want to place *priors* over our unknowns and\n",
    "infer *posteriors* using the data."
   ]
  },
  {
   "cell_type": "raw",
   "id": "851c01e0",
   "metadata": {},
   "source": [
    "Gaussian Processes\n",
    "------------------\n",
    "\n",
    "Gaussian processes (GPs) provide the probability distribution we require over functions. \"Gaussian\" refers to the fact\n",
    "that values at any point follow some normal distribution, to be inferred. GP regression is extremely flexible as one's\n",
    "assumptions about the unknown function :math:`f` are at a higher level of abstraction than in other methods.\n",
    "\n",
    "Having determined the posterior, you can obtain predictions for :math:`f(x)` at any collection of :math:`x` values.\n",
    "These predictions are **not** just point estimates but full probability distributions, meaning that confidence estimates\n",
    "can be obtained. For any input you receive not just the prediction, but a measure of how *sure* the model is about that\n",
    "prediction.\n",
    "\n",
    "To summarise, the main advantages of GP regression models are:\n",
    "\n",
    "* Observation uncertainty on :math:`y`-values is quantified. If you are unsure about your true :math:`y`-values to begin\n",
    "  with, then the GP will take this into account.\n",
    "* Extrapolation uncertainty is quantified. The further away the point you wish to predict is from truth data, the less\n",
    "  sure your model will be about its prediction.\n",
    "* Flexible posteriors, allowing you to include more upfront information about the expected behaviour of the model.\n",
    "* Predictions come with full probability distributions for uncertainty quantification.\n",
    "\n",
    "Theoretical Shortcomings\n",
    "~~~~~~~~~~~~~~~~~~~~~~~~\n",
    "\n",
    "Standard GP regression is not a panacea for regression problems, and one should take the following into account:\n",
    "\n",
    "* Predictions must be normally distributed, which may be at odds with what you know about the data (e.g., always\n",
    "  positive).\n",
    "* Uncertainty on the input (:math:`x`) values cannot be handled, meaning that the model may be more sure about a\n",
    "  prediction than it ought to be.\n",
    "* Exact inference scales cubically with dataset size. This means that for :math:`n` data points, the inference runs in\n",
    "  :math:`\\mathcal{O}(n^3)` time, which can get very slow very quickly."
   ]
  },
  {
   "cell_type": "raw",
   "id": "9855e916",
   "metadata": {},
   "source": [
    "The Mathematics Behind Gaussian Processes\n",
    "-----------------------------------------\n",
    "\n",
    "Gaussian processes are not an easy thing to understand, and the allusion to linear and multinomial regression can only carry the reader so far. The following explanation is taken from Chapter 2 of :cite:`Rasmussen06`, which although a thorough exploration of the theory, does not make for light reading."
   ]
  },
  {
   "cell_type": "raw",
   "id": "b17b524f",
   "metadata": {},
   "source": [
    "A Gaussian process is completely specified by its *mean function* and *covariance function*. These are denoted by\n",
    ":math:`m(x)` and :math:`k(x, x')` respectively, and defined as follows:\n",
    "\n",
    ".. math::\n",
    "    \\begin{align}\n",
    "        m(x) &= E[f(x)], \\\\\n",
    "        k(x, x') &= E[(f(x) - m(x))(f(x') - m(x'))].\n",
    "    \\end{align}\n",
    "\n",
    "Note that the covariance between the *outputs* is written as a function of the *inputs*. We write the Gaussian process\n",
    "as a distribution not dissimilar to a Gaussian distribution, except instead of being over the real numbers it is over\n",
    "the *function space* over the reals:\n",
    "\n",
    ".. math::\n",
    "    f \\sim GP(m(x), k(x, x')).\n",
    "\n",
    "A common choice for the mean function is the *zero function*:\n",
    "\n",
    ".. math::\n",
    "    m(x) = 0,\n",
    "\n",
    "and a common choice for the covariance function is the *squared exponential* function:\n",
    "\n",
    ".. math::\n",
    "    k(x, x') = e^{-\\frac{1}{2}|x-x'|^2}.\n",
    "\n",
    "(Other choices are available, and when to use them depends on the type of data you have, and behaviours you expect from\n",
    "your model.)  As the distance between :math:`x` and :math:`x'` decreases to zero, the covariance approaches 1, and as\n",
    "the distance increases to infinity, the covariance approaches zero. This makes sense, since the effect of a given data\n",
    "point on our truth data should depend somewhat on how close we are to that data point."
   ]
  },
  {
   "cell_type": "raw",
   "id": "d160a2e2",
   "metadata": {},
   "source": [
    "In order to understand the mathematics, it helps to consider the case where we have a zero mean, and there is no noise\n",
    "on the observations, i.e. the training data we have is exact with no uncertainty on the :math:`y`-values. Consider the\n",
    "model :math:`f` we fit over the :math:`n` observations (our training data) not as a function per se, but as a\n",
    "*distribution* from which we draw said function. Suppose we wish to predict the :math:`y`-values over :math:`n_*` test\n",
    "data points, then the *joint distribution* of the training outputs (:math:`f`) and the test outputs (:math:`f*`) with\n",
    "respect to the prior is:\n",
    "\n",
    ".. math::\n",
    "    \\begin{bmatrix}\n",
    "        f\\\\f_*\n",
    "    \\end{bmatrix} = N\\left(0, \\begin{bmatrix}\n",
    "        K(X,X) &\n",
    "        K(X,X_*)\\\\ K(X_*,X) & K(X_*,X_*)\n",
    "    \\end{bmatrix}\\right),\n",
    "\n",
    "where :math:`K(X,X_*)` denotes the :math:`n\\times n_*` matrix of the covariances calculated at all pairs of training and\n",
    "test points (subject to our covariance function :math:`k`), and similar for all other :math:`K(\\cdot,\\cdot)`. To infer\n",
    "the posterior distribution we also restrict this joint prior distribution to function which will concur with the\n",
    "observations. We do this by *conditioning* the joint prior on the observations using standard Gaussian conditioning\n",
    "rules, which gives the following formula for our :math:`f_*` distribution:\n",
    "\n",
    ".. math::\n",
    "    f_*|X_*,X,f \\sim N\\left(M(X,X_*), \\Psi(X,X_*)\\right),\n",
    "\n",
    "where\n",
    "\n",
    ".. math::\n",
    "    \\begin{align}\n",
    "        M(X,X_*) &= K(X_*,X)K(X,X)^{-1}f, \\\\\n",
    "        \\Psi(X,X_*) &= K(X_*,X_*)-K(X_*,X)K(X,X)^{-1}K(X,X_*).\n",
    "    \\end{align}\n",
    "\n",
    "Function values can then be sampled from this distribution, which will yield our *model* for the test values. This is\n",
    "how prediction works for a Gaussian process, and explains the uncertainty that the model includes with it. Note the\n",
    "required inverse of the :math:`K(X, X)` matrix, which explains the cubic complexity of the inference."
   ]
  },
  {
   "cell_type": "raw",
   "id": "6b4c20f8",
   "metadata": {},
   "source": [
    "Python Implementations of GPs\n",
    "-----------------------------\n",
    "\n",
    "Many data science and machine learning libraries exist which can implement simple Gaussian processes. The data we will\n",
    "be using is the :class:`~vanguard.datasets.synthetic.SyntheticDataset`, with the\n",
    ":func:`vanguard.datasets.synthetic.very_complicated_f` function, given by:\n",
    "\n",
    ".. math::\n",
    "    f(x) = -x^\\frac{3}{2} + x\\sin^2(2\\pi x) + x^2 \\cos(10\\pi x)"
   ]
  },
  {
   "cell_type": "code",
   "execution_count": null,
   "id": "f356dc94",
   "metadata": {},
   "outputs": [],
   "source": [
    "DATASET = SyntheticDataset(functions=[very_complicated_f], n_train_points=10, rng=np.random.default_rng(random_seed))"
   ]
  },
  {
   "cell_type": "raw",
   "id": "9275c8f1",
   "metadata": {},
   "source": [
    "Sci-kit Learn\n",
    "~~~~~~~~~~~~~\n",
    "\n",
    "The most straightforward implementation is in ``sklearn``, with a trademark light-weight API. We first need a *kernel*,\n",
    "which is the Python equivalent which implements the covariance function :math:`k`. The\n",
    ":class:`~sklearn.gaussian_process.kernels.RBF` kernel is the implementation of the squared exponential covariance\n",
    "function mentioned above. We compose it with a :class:`~sklearn.gaussian_process.kernels.ConstantKernel`, to allow us to\n",
    "scale the covariance to accommodate the prior:"
   ]
  },
  {
   "cell_type": "code",
   "execution_count": null,
   "id": "3371f637",
   "metadata": {},
   "outputs": [],
   "source": [
    "kernel = ConstantKernel() * RBF()"
   ]
  },
  {
   "cell_type": "raw",
   "id": "cdad52b8",
   "metadata": {},
   "source": [
    "We can then instantiate our model with the kernel:"
   ]
  },
  {
   "cell_type": "code",
   "execution_count": null,
   "id": "bcdc24ca",
   "metadata": {},
   "outputs": [],
   "source": [
    "gp = GaussianProcessRegressor(kernel=kernel, n_restarts_optimizer=9, alpha=DATASET.train_y_std.detach().cpu().numpy())"
   ]
  },
  {
   "cell_type": "raw",
   "id": "2f29c934",
   "metadata": {},
   "source": [
    "As is common with ``sklearn`` we call the :meth:`~sklearn.gaussian_process.GaussianProcessRegressor.fit` method, which\n",
    "will tune the hyperparameters in the mean and the kernel of the Gaussian process:"
   ]
  },
  {
   "cell_type": "code",
   "execution_count": null,
   "id": "5d43a1b6",
   "metadata": {},
   "outputs": [],
   "source": [
    "gp.fit(DATASET.train_x.detach().cpu().numpy(), DATASET.train_y.detach().cpu().numpy())"
   ]
  },
  {
   "cell_type": "raw",
   "id": "98e10928",
   "metadata": {},
   "source": [
    "Our predictions can then be pulled from the model using the\n",
    ":meth:`~sklearn.gaussian_process.GaussianProcessRegressor.predict` method. By predicting across a mesh of points over\n",
    "the training data, we can see the effects of the uncertainty on the plot."
   ]
  },
  {
   "cell_type": "code",
   "execution_count": null,
   "id": "530eebe3",
   "metadata": {},
   "outputs": [],
   "source": [
    "linspace = np.linspace(DATASET.train_x.min().item(), DATASET.train_x.max().item(), num=100)\n",
    "predictions, uncertainty = gp.predict(linspace.reshape(-1, 1), return_std=True)"
   ]
  },
  {
   "cell_type": "code",
   "execution_count": null,
   "id": "80bd11bd",
   "metadata": {},
   "outputs": [],
   "source": [
    "# Convert to numpy arrays for plotting\n",
    "plt_train_x = DATASET.train_x.numpy(force=True)\n",
    "plt_train_y = DATASET.train_y.numpy(force=True)\n",
    "\n",
    "plt.figure(figsize=(20, 10))\n",
    "plt.scatter(plt_train_x, plt_train_y, label=\"Truth\")\n",
    "plt.plot(linspace, predictions, color=\"olive\", label=\"Prediction\")\n",
    "plt.fill_between(linspace, predictions - 1.96 * uncertainty, predictions + 1.96 * uncertainty, color=\"olive\", alpha=0.3)\n",
    "plt.title(\"Sci-kit Learn Gaussian Process\")\n",
    "plt.legend()\n",
    "plt.show()"
   ]
  },
  {
   "cell_type": "raw",
   "id": "02d83228",
   "metadata": {},
   "source": [
    "GPyTorch\n",
    "~~~~~~~~\n",
    "\n",
    "Sci-kit learn is a great choice for implementing a quick GP, but it has very little room for adjustment and it is almost\n",
    "impossible to do anything advanced. On the other side of the spectrum, ``gpytorch`` allows for an almost unbounded set\n",
    "of features by fully exposing all parts of the GP architecture. Our initial kernel is identical to the above example,\n",
    "composing the :class:`~gpytorch.kernels.RBFKernel` with a :class:`~gpytorch.kernels.ScaleKernel`:"
   ]
  },
  {
   "cell_type": "code",
   "execution_count": null,
   "id": "6b9944d3",
   "metadata": {},
   "outputs": [],
   "source": [
    "kernel = gpytorch.kernels.ScaleKernel(gpytorch.kernels.RBFKernel())"
   ]
  },
  {
   "cell_type": "raw",
   "id": "b901abf4",
   "metadata": {},
   "source": [
    "We also now have freedom over the mean. A good starting place is the :class:`~gpytorch.means.ConstantMean`:"
   ]
  },
  {
   "cell_type": "code",
   "execution_count": null,
   "id": "4ab299c9",
   "metadata": {},
   "outputs": [],
   "source": [
    "mean = gpytorch.means.ConstantMean()"
   ]
  },
  {
   "cell_type": "raw",
   "id": "3e19e820",
   "metadata": {},
   "source": [
    "Unlike ``sklearn``, we need to specify a likelihood function, which controls the mapping from the image of points under\n",
    "a function (:math:`f(x)`) to the labels. This can be as simple as adding some Gaussian noise as in the\n",
    ":class:`~gpytorch.likelihoods.GaussianLikelihood`, or something more complex to enable binary classification as in the\n",
    ":class:`~gpytorch.likelihoods.BernoulliLikelihood`. However, the former is the best choice for a simple model:"
   ]
  },
  {
   "cell_type": "code",
   "execution_count": null,
   "id": "740bc761",
   "metadata": {},
   "outputs": [],
   "source": [
    "likelihood = gpytorch.likelihoods.GaussianLikelihood()"
   ]
  },
  {
   "cell_type": "raw",
   "id": "1e833d1c",
   "metadata": {},
   "source": [
    "Finally, we need to build a model class to handle the inference. GPyTorch makes you do this yourself to allow you full\n",
    "control, but it can seem like a daunting task. For a simple case, one need only subclass the\n",
    ":class:`~gpytorch.models.ExactGP` class, and specify a ``forward`` method to pass data through the mean and covariance\n",
    "functions. The :class:`~gpytorch.distributions.MultivariateNormal` instance is the standard output for these functions,\n",
    "allowing us to work with a distribution directly instead of separating the mean and variance."
   ]
  },
  {
   "cell_type": "code",
   "execution_count": null,
   "id": "fe1b2642",
   "metadata": {},
   "outputs": [],
   "source": [
    "class ExactGPModel(gpytorch.models.ExactGP):\n",
    "    def __init__(self, train_x: Tensor, train_y: Tensor, y_std: Tensor) -> None:\n",
    "        likelihood = gpytorch.likelihoods.FixedNoiseGaussianLikelihood(noise=y_std)\n",
    "        super().__init__(train_x, train_y, likelihood)\n",
    "        self.mean_module = gpytorch.means.ConstantMean()\n",
    "        self.covar_module = gpytorch.kernels.ScaleKernel(gpytorch.kernels.RBFKernel())\n",
    "\n",
    "    @override\n",
    "    def forward(self, x: Tensor) -> gpytorch.distributions.MultivariateNormal:\n",
    "        mean_x = self.mean_module(x)\n",
    "        covar_x = self.covar_module(x)\n",
    "        return gpytorch.distributions.MultivariateNormal(mean_x, covar_x)"
   ]
  },
  {
   "cell_type": "raw",
   "id": "45619c92",
   "metadata": {},
   "source": [
    "We can then instantiate our model. Note that GPyTorch works with tensors instead of numpy arrays, so we need to ensure\n",
    "that we convert them before passing them to the model."
   ]
  },
  {
   "cell_type": "code",
   "execution_count": null,
   "id": "f1b53cc2",
   "metadata": {},
   "outputs": [],
   "source": [
    "gp = ExactGPModel(\n",
    "    torch.as_tensor(DATASET.train_x),\n",
    "    torch.as_tensor(DATASET.train_y),\n",
    "    torch.ones(len(DATASET.train_y)) * DATASET.train_y_std,\n",
    ")"
   ]
  },
  {
   "cell_type": "raw",
   "id": "7b1867ac",
   "metadata": {},
   "source": [
    "Fitting the model is a much more manual task here than it was before, requiring us to build our own function. We make\n",
    "use of the :class:`~torch.optim.Adam` optimiser, and also the :class:`~gpytorch.mlls.ExactMarginalLogLikelihood` class.\n",
    "This will compute the marginal log likelihood of the model when applied to some data, and can be turned into \"loss\"\n",
    "functions by negating them. There are a few variations, but this one is sufficient for this simple case. We wrap all of\n",
    "these into a ``fit`` function to broadly emulate the one from ``sklearn``:"
   ]
  },
  {
   "cell_type": "code",
   "execution_count": null,
   "id": "0d45d084",
   "metadata": {},
   "outputs": [],
   "source": [
    "optimiser = torch.optim.Adam([{\"params\": gp.parameters()}], lr=0.1)\n",
    "mll = gpytorch.mlls.ExactMarginalLogLikelihood(gp.likelihood, gp)\n",
    "\n",
    "\n",
    "def fit(model: ExactGPModel, train_x: Tensor, train_y: Tensor, n_iters: int) -> None:\n",
    "    model.train()\n",
    "    model.likelihood.train()\n",
    "\n",
    "    for i in range(n_iters):\n",
    "        optimiser.zero_grad()\n",
    "        output = model(train_x)\n",
    "        loss = -mll(output, train_y)\n",
    "        loss.backward()\n",
    "        optimiser.step()"
   ]
  },
  {
   "cell_type": "code",
   "execution_count": null,
   "id": "5a68cd69",
   "metadata": {},
   "outputs": [],
   "source": [
    "fit(gp, torch.as_tensor(DATASET.train_x), torch.as_tensor(DATASET.train_y), n_iters=100)"
   ]
  },
  {
   "cell_type": "raw",
   "id": "ea47ea0e",
   "metadata": {},
   "source": [
    "Again, we are expected to craft our own ``predict`` method, which is much simpler:"
   ]
  },
  {
   "cell_type": "code",
   "execution_count": null,
   "id": "662b5c10",
   "metadata": {},
   "outputs": [],
   "source": [
    "def predict(model: ExactGPModel, x: Tensor) -> tuple[NDArray[float], NDArray[float]]:\n",
    "    model.eval()\n",
    "    model.likelihood.eval()\n",
    "\n",
    "    with torch.no_grad(), gpytorch.settings.fast_pred_var():\n",
    "        prediction = model.likelihood(model(x))\n",
    "\n",
    "    means = prediction.loc.numpy(force=True)\n",
    "    variances = prediction.lazy_covariance_matrix.diagonal().numpy(force=True)\n",
    "\n",
    "    return means, np.sqrt(np.abs(variances))"
   ]
  },
  {
   "cell_type": "raw",
   "id": "9cf68e70",
   "metadata": {},
   "source": [
    "As before, we can see how well the model incorporates uncertainty:"
   ]
  },
  {
   "cell_type": "code",
   "execution_count": null,
   "id": "44b31bd5",
   "metadata": {},
   "outputs": [],
   "source": [
    "predictions, uncertainty = predict(gp, torch.as_tensor(linspace))"
   ]
  },
  {
   "cell_type": "code",
   "execution_count": null,
   "id": "6ad056af",
   "metadata": {},
   "outputs": [],
   "source": [
    "plt.figure(figsize=(20, 10))\n",
    "plt.scatter(plt_train_x, plt_train_y, label=\"Truth\")\n",
    "plt.plot(linspace, predictions, color=\"green\", label=\"Prediction\")\n",
    "plt.fill_between(linspace, predictions - 1.96 * uncertainty, predictions + 1.96 * uncertainty, color=\"green\", alpha=0.3)\n",
    "plt.title(\"GPyTorch Gaussian Process\")\n",
    "plt.legend()\n",
    "plt.show()"
   ]
  },
  {
   "cell_type": "raw",
   "id": "b919e98b",
   "metadata": {},
   "source": [
    "Vanguard\n",
    "~~~~~~~~\n",
    "\n",
    "Finally, we come to Vanguard, which is built upon GPyTorch to allow advanced GP functionality without requiring too much\n",
    "knowledge from the user. Given its base, Vanguard can be adjusted to use many components from GPyTorch, and also allows\n",
    "for easy composability of the advanced features made available. Instead of composing our own kernels (which is still\n",
    "possible) we use the specific :class:`~vanguard.kernels.ScaledRBFKernel`. Note that components are passed around in\n",
    "Vanguard as *uninstantiated classes* instead of instances, which enables much of the composability."
   ]
  },
  {
   "cell_type": "code",
   "execution_count": null,
   "id": "b8222b9a",
   "metadata": {},
   "outputs": [],
   "source": [
    "gp = GaussianGPController(\n",
    "    DATASET.train_x,\n",
    "    DATASET.train_y,\n",
    "    kernel_class=ScaledRBFKernel,\n",
    "    y_std=DATASET.train_y_std,\n",
    "    rng=np.random.default_rng(random_seed),\n",
    ")\n",
    "gp.fit(100)"
   ]
  },
  {
   "cell_type": "raw",
   "id": "d2bfba08",
   "metadata": {},
   "source": [
    "Instead of a ``predict`` method, Vanguard opts for the\n",
    ":meth:`~vanguard.base.gpcontroller.GPController.posterior_over_point` method, which will return an instance of a\n",
    ":class:`~vanguard.base.posteriors.Posterior` class, allowing some of the features to alter how the distribution leads to\n",
    "predictions."
   ]
  },
  {
   "cell_type": "code",
   "execution_count": null,
   "id": "89f7cc27",
   "metadata": {},
   "outputs": [],
   "source": [
    "posterior = gp.predictive_likelihood(linspace)\n",
    "predictions, covar = posterior._tensor_prediction()\n",
    "predictions, covar = predictions.numpy(force=True), covar.numpy(force=True)\n",
    "uncertainty = np.sqrt(covar.diagonal())"
   ]
  },
  {
   "cell_type": "raw",
   "id": "79175189",
   "metadata": {},
   "source": [
    "To simplify matters, one can just call the :meth:`~vanguard.base.posteriors.Posterior.confidence_interval` method\n",
    "instead of working directly with the covariance matrix:"
   ]
  },
  {
   "cell_type": "code",
   "execution_count": null,
   "id": "34fbef56",
   "metadata": {},
   "outputs": [],
   "source": [
    "median, lower, upper = posterior.confidence_interval()\n",
    "\n",
    "# Convert to numpy for plotting\n",
    "median = median.numpy(force=True)\n",
    "lower = lower.numpy(force=True)\n",
    "upper = upper.numpy(force=True)\n",
    "\n",
    "plt.figure(figsize=(20, 10))\n",
    "plt.scatter(plt_train_x, plt_train_y, label=\"Truth\")\n",
    "plt.plot(linspace, median, color=\"red\", label=\"Prediction\")\n",
    "plt.fill_between(linspace, lower, upper, color=\"red\", alpha=0.3)\n",
    "plt.title(\"Vanguard Gaussian Process\")\n",
    "plt.legend()\n",
    "plt.show()"
   ]
  },
  {
   "cell_type": "raw",
   "id": "fe4de7eb",
   "metadata": {},
   "source": [
    "This is arguably the best fit, as the uncertainty around the target values is properly accounted for, yet the mean still\n",
    "follows the overall trend of the points. Vanguard also scales its inputs by default, which often leads to faster\n",
    "convergence."
   ]
  },
  {
   "cell_type": "raw",
   "id": "996df7fa",
   "metadata": {},
   "source": [
    "Conclusions\n",
    "-----------\n",
    "\n",
    "In this notebook we have introduced the theory of Gaussian processes, and compared some common Python implementations.\n",
    "In order to see how advanced features can be applied using Vanguard, have a look through some other example notebooks\n",
    "for specific examples."
   ]
  }
 ],
 "metadata": {
  "language_info": {
   "codemirror_mode": {
    "name": "ipython",
    "version": 3
   },
   "file_extension": ".py",
   "mimetype": "text/x-python",
   "name": "python",
   "nbconvert_exporter": "python",
   "pygments_lexer": "ipython3"
  }
 },
 "nbformat": 4,
 "nbformat_minor": 5
}
